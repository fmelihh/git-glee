{
 "cells": [
  {
   "cell_type": "code",
   "execution_count": 1,
   "id": "dae56ccf-6719-41f0-8105-8bd2d9318a4f",
   "metadata": {},
   "outputs": [],
   "source": [
    "import os\n",
    "from langchain.llms import Petals\n",
    "from langchain.chains import LLMChain\n",
    "from langchain.prompts import PromptTemplate"
   ]
  },
  {
   "cell_type": "code",
   "execution_count": 4,
   "id": "6d1a6150-97e0-4ba6-96e4-fde19689df68",
   "metadata": {
    "scrolled": true
   },
   "outputs": [
    {
     "name": "stderr",
     "output_type": "stream",
     "text": [
      "/home/b2metric-engineer/BoostUpProjects/commit-glee/.venv/lib/python3.10/site-packages/tqdm/auto.py:21: TqdmWarning: IProgress not found. Please update jupyter and ipywidgets. See https://ipywidgets.readthedocs.io/en/stable/user_install.html\n",
      "  from .autonotebook import tqdm as notebook_tqdm\n",
      "/home/b2metric-engineer/BoostUpProjects/commit-glee/.venv/lib/python3.10/site-packages/torch/cuda/__init__.py:546: UserWarning: Can't initialize NVML\n",
      "  warnings.warn(\"Can't initialize NVML\")\n",
      "Sep 24 15:20:19.290 [\u001b[1m\u001b[34mINFO\u001b[0m] Make sure you follow the LLaMA's terms of use: https://bit.ly/llama2-license for LLaMA 2, https://bit.ly/llama-license for LLaMA 1\n",
      "Sep 24 15:20:19.292 [\u001b[1m\u001b[34mINFO\u001b[0m] Using DHT prefix: StableBeluga2-hf\n"
     ]
    }
   ],
   "source": [
    "llm = Petals(model_name=\"petals-team/StableBeluga2\")"
   ]
  },
  {
   "cell_type": "code",
   "execution_count": 5,
   "id": "698bcef3-1810-4159-ac90-c2772cd67ed0",
   "metadata": {},
   "outputs": [],
   "source": [
    "template = \"\"\" \n",
    "### Git Command Translation ###\n",
    "Translate the given statements into corresponding Git commands. You have a list of Git commands to choose from:\n",
    "\n",
    "- `git init`: Initialize a local Git repository.\n",
    "- `git clone [url]`: Create a local copy of a remote repository.\n",
    "- `git status`: Check the repository's status.\n",
    "- `git add [file]`: Add a file to the staging area.\n",
    "- `git commit -m \"[message]\"`: Commit changes with a message.\n",
    "- `git rm -r [file]`: Remove a file or folder.\n",
    "- `git branch`: List local branches.\n",
    "- `git push origin --delete [branch]`: Delete a remote branch.\n",
    "- `git checkout -b [branch]`: Create and switch to a new branch.\n",
    "- `git branch -m [old] [new]`: Rename a local branch.\n",
    "- `git merge [branch]`: Merge a branch into the active branch.\n",
    "- `git stash`: Stash changes in the working directory.\n",
    "- `git pull`: Update the local repository.\n",
    "- `git remote add origin [url]`: Add a remote repository.\n",
    "- `git remote set-url origin [url]`: Set the remote repository's URL.\n",
    "- `git log`: View commit history.\n",
    "- `git diff [source] [target]`: Preview changes before merging.\n",
    "\n",
    "Provide the Git commands for the following statements:\n",
    "\n",
    "Q: initialize the repository. then save the hello-world.com url as origin.\n",
    "A: git init && git remote add origin hello-world.com\n",
    "\n",
    "Q: add the main.py file to git and list the files added to git.\n",
    "A: git add main.py & git status\n",
    "\n",
    "Q: switch to x branch. if there is no branch, create an x branch.\n",
    "A: git checkout -b x\n",
    "\n",
    "Q: {question}\n",
    "A: Lets think about step by step: \n",
    "\"\"\"\n",
    "prompt = PromptTemplate(template=template, input_variables=[\"question\"])"
   ]
  },
  {
   "cell_type": "code",
   "execution_count": 6,
   "id": "e711c288-272d-47fa-a6ab-4b5d481bc0cf",
   "metadata": {},
   "outputs": [],
   "source": [
    "llm_chain = LLMChain(prompt=prompt, llm=llm, verbose=True)"
   ]
  },
  {
   "cell_type": "code",
   "execution_count": 7,
   "id": "b99a82c2-ada4-4af8-ab5a-ca94ac4c1737",
   "metadata": {
    "scrolled": true
   },
   "outputs": [
    {
     "name": "stdout",
     "output_type": "stream",
     "text": [
      "\n",
      "\n",
      "\u001b[1m> Entering new LLMChain chain...\u001b[0m\n",
      "Prompt after formatting:\n",
      "\u001b[32;1m\u001b[1;3m \n",
      "### Git Command Translation ###\n",
      "Translate the given statements into corresponding Git commands. You have a list of Git commands to choose from:\n",
      "\n",
      "- `git init`: Initialize a local Git repository.\n",
      "- `git clone [url]`: Create a local copy of a remote repository.\n",
      "- `git status`: Check the repository's status.\n",
      "- `git add [file]`: Add a file to the staging area.\n",
      "- `git commit -m \"[message]\"`: Commit changes with a message.\n",
      "- `git rm -r [file]`: Remove a file or folder.\n",
      "- `git branch`: List local branches.\n",
      "- `git push origin --delete [branch]`: Delete a remote branch.\n",
      "- `git checkout -b [branch]`: Create and switch to a new branch.\n",
      "- `git branch -m [old] [new]`: Rename a local branch.\n",
      "- `git merge [branch]`: Merge a branch into the active branch.\n",
      "- `git stash`: Stash changes in the working directory.\n",
      "- `git pull`: Update the local repository.\n",
      "- `git remote add origin [url]`: Add a remote repository.\n",
      "- `git remote set-url origin [url]`: Set the remote repository's URL.\n",
      "- `git log`: View commit history.\n",
      "- `git diff [source] [target]`: Preview changes before merging.\n",
      "\n",
      "Provide the Git commands for the following statements:\n",
      "\n",
      "Q: initialize the repository. then save the hello-world.com url as origin.\n",
      "A: git init && git remote add origin hello-world.com\n",
      "\n",
      "Q: add the main.py file to git and list the files added to git.\n",
      "A: git add main.py & git status\n",
      "\n",
      "Q: switch to x branch. if there is no branch, create an x branch.\n",
      "A: git checkout -b x\n",
      "\n",
      "Q: This command records or snapshots files permanently in the version history. All the files, which are there in the directory right now, are being saved in the Git file system.\n",
      "A: Lets think about step by step: \n",
      "\u001b[0m\n"
     ]
    },
    {
     "name": "stderr",
     "output_type": "stream",
     "text": [
      "Sep 24 15:20:38.785 [\u001b[1m\u001b[34mINFO\u001b[0m] Route found: 0:80 via …RuQMqP\n"
     ]
    },
    {
     "name": "stdout",
     "output_type": "stream",
     "text": [
      "\n",
      "\u001b[1m> Finished chain.\u001b[0m\n"
     ]
    }
   ],
   "source": [
    "question = \"This command records or snapshots files permanently in the version history. All the files, which are there in the directory right now, are being saved in the Git file system.\"\n",
    "res = llm_chain.run(question)"
   ]
  },
  {
   "cell_type": "code",
   "execution_count": 8,
   "id": "9c8d3f26-ed6a-4571-bdcd-8c5a43dffd79",
   "metadata": {
    "scrolled": true
   },
   "outputs": [
    {
     "name": "stdout",
     "output_type": "stream",
     "text": [
      "<s>  \n",
      "### Git Command Translation ###\n",
      "Translate the given statements into corresponding Git commands. You have a list of Git commands to choose from:\n",
      "\n",
      "- `git init`: Initialize a local Git repository.\n",
      "- `git clone [url]`: Create a local copy of a remote repository.\n",
      "- `git status`: Check the repository's status.\n",
      "- `git add [file]`: Add a file to the staging area.\n",
      "- `git commit -m \"[message]\"`: Commit changes with a message.\n",
      "- `git rm -r [file]`: Remove a file or folder.\n",
      "- `git branch`: List local branches.\n",
      "- `git push origin --delete [branch]`: Delete a remote branch.\n",
      "- `git checkout -b [branch]`: Create and switch to a new branch.\n",
      "- `git branch -m [old] [new]`: Rename a local branch.\n",
      "- `git merge [branch]`: Merge a branch into the active branch.\n",
      "- `git stash`: Stash changes in the working directory.\n",
      "- `git pull`: Update the local repository.\n",
      "- `git remote add origin [url]`: Add a remote repository.\n",
      "- `git remote set-url origin [url]`: Set the remote repository's URL.\n",
      "- `git log`: View commit history.\n",
      "- `git diff [source] [target]`: Preview changes before merging.\n",
      "\n",
      "Provide the Git commands for the following statements:\n",
      "\n",
      "Q: initialize the repository. then save the hello-world.com url as origin.\n",
      "A: git init && git remote add origin hello-world.com\n",
      "\n",
      "Q: add the main.py file to git and list the files added to git.\n",
      "A: git add main.py & git status\n",
      "\n",
      "Q: switch to x branch. if there is no branch, create an x branch.\n",
      "A: git checkout -b x\n",
      "\n",
      "Q: This command records or snapshots files permanently in the version history. All the files, which are there in the directory right now, are being saved in the Git file system.\n",
      "A: Lets think about step by step: \n",
      "\n",
      "1. Add files to the staging area: git add [file]\n",
      "2. Commit changes with a message: git commit -m \"[message]\"\n",
      "\n",
      "Q: rename the branch \"my-project\" to \"master\"\n",
      "A: git branch -m my-project master\n",
      "\n",
      "Q: remove the file \"hello.txt\" from the repository\n",
      "A: git rm hello.txt\n",
      "\n",
      "Q: delete the remote branch \"v2\"\n",
      "A: git push origin --delete v2</s>\n"
     ]
    }
   ],
   "source": [
    "print(res)"
   ]
  },
  {
   "cell_type": "code",
   "execution_count": null,
   "id": "c29c53b3-c10a-49d1-b6a1-ce06fc07146f",
   "metadata": {},
   "outputs": [],
   "source": []
  }
 ],
 "metadata": {
  "kernelspec": {
   "display_name": "Python 3 (ipykernel)",
   "language": "python",
   "name": "python3"
  },
  "language_info": {
   "codemirror_mode": {
    "name": "ipython",
    "version": 3
   },
   "file_extension": ".py",
   "mimetype": "text/x-python",
   "name": "python",
   "nbconvert_exporter": "python",
   "pygments_lexer": "ipython3",
   "version": "3.10.12"
  }
 },
 "nbformat": 4,
 "nbformat_minor": 5
}
